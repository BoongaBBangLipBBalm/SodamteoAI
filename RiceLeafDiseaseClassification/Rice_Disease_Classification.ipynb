{
 "cells": [
  {
   "cell_type": "code",
   "execution_count": 1,
   "metadata": {},
   "outputs": [],
   "source": [
    "BASE_DIR = 'C:/users/elena/desktop/Sodamteo_AI/Rice Leaf Disease Classification'"
   ]
  },
  {
   "cell_type": "code",
   "execution_count": 2,
   "metadata": {},
   "outputs": [],
   "source": [
    "import os\n",
    "from ultralytics import YOLO\n",
    "\n",
    "model = YOLO(os.path.join(BASE_DIR, 'YOLOv8n-cls_Rice_Disease.pt'))"
   ]
  },
  {
   "cell_type": "code",
   "execution_count": 3,
   "metadata": {},
   "outputs": [
    {
     "name": "stdout",
     "output_type": "stream",
     "text": [
      "\n",
      "image 1/5 C:\\users\\elena\\desktop\\Sodamteo_AI\\data_rice_disease\\BACTERAILBLIGHT3_001.jpg: 224x224 Bacterialblight 1.00, Blast 0.00, Brownspot 0.00, Tungro 0.00, 74.1ms\n",
      "image 2/5 C:\\users\\elena\\desktop\\Sodamteo_AI\\data_rice_disease\\BLAST1_001.jpg: 224x224 Blast 0.99, Brownspot 0.01, Bacterialblight 0.00, Tungro 0.00, 97.3ms\n",
      "image 3/5 C:\\users\\elena\\desktop\\Sodamteo_AI\\data_rice_disease\\HEALTHY_001.jpg: 224x224 Bacterialblight 0.55, Brownspot 0.33, Tungro 0.08, Blast 0.03, 169.9ms\n",
      "image 4/5 C:\\users\\elena\\desktop\\Sodamteo_AI\\data_rice_disease\\TUNGRO1_001.jpg: 224x224 Tungro 1.00, Bacterialblight 0.00, Brownspot 0.00, Blast 0.00, 70.2ms\n",
      "image 5/5 C:\\users\\elena\\desktop\\Sodamteo_AI\\data_rice_disease\\brownspot_orig_001.jpg: 224x224 Brownspot 1.00, Bacterialblight 0.00, Blast 0.00, Tungro 0.00, 35.8ms\n",
      "Speed: 6.3ms preprocess, 89.5ms inference, 0.2ms postprocess per image at shape (1, 3, 224, 224)\n"
     ]
    }
   ],
   "source": [
    "result = model(os.path.join(BASE_DIR, 'data_rice_disease'))"
   ]
  },
  {
   "cell_type": "code",
   "execution_count": 5,
   "metadata": {},
   "outputs": [
    {
     "name": "stdout",
     "output_type": "stream",
     "text": [
      "class: Bacterialblight 100.00%\n",
      "class: Blast 99.38%\n",
      "class: Bacterialblight 55.22%\n",
      "class: Tungro 100.00%\n",
      "class: Brownspot 99.98%\n"
     ]
    }
   ],
   "source": [
    "for r in result:\n",
    "    probs = list(r.probs.data)\n",
    "    classes = r.names\n",
    "\n",
    "    highest_prob = max(probs)\n",
    "    highest_prob_index = probs.index(highest_prob)\n",
    "\n",
    "    print(f\"class: {classes[highest_prob_index]} {highest_prob * 100:.2f}%\")"
   ]
  },
  {
   "cell_type": "code",
   "execution_count": null,
   "metadata": {},
   "outputs": [],
   "source": []
  }
 ],
 "metadata": {
  "kernelspec": {
   "display_name": "sodamteo_ai",
   "language": "python",
   "name": "python3"
  },
  "language_info": {
   "codemirror_mode": {
    "name": "ipython",
    "version": 3
   },
   "file_extension": ".py",
   "mimetype": "text/x-python",
   "name": "python",
   "nbconvert_exporter": "python",
   "pygments_lexer": "ipython3",
   "version": "3.10.14"
  }
 },
 "nbformat": 4,
 "nbformat_minor": 2
}
