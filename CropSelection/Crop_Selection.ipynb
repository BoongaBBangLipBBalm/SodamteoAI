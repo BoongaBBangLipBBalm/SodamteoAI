{
 "cells": [
  {
   "cell_type": "code",
   "execution_count": 2,
   "metadata": {},
   "outputs": [],
   "source": [
    "import os\n",
    "import joblib\n",
    "import numpy as np\n",
    "\n",
    "BASE_DIR = 'C:/users/elena/desktop/Sodamteo_AI/Crop Selection'"
   ]
  },
  {
   "cell_type": "code",
   "execution_count": 4,
   "metadata": {},
   "outputs": [
    {
     "name": "stdout",
     "output_type": "stream",
     "text": [
      "mothbeans, 64.53%\n",
      "blackgram, 31.879999999999995%\n",
      "maize, 2.77%\n"
     ]
    },
    {
     "name": "stderr",
     "output_type": "stream",
     "text": [
      "c:\\Users\\elena\\anaconda3\\envs\\sodamteo_ai\\lib\\site-packages\\sklearn\\base.py:376: InconsistentVersionWarning: Trying to unpickle estimator LogisticRegression from version 1.2.2 when using version 1.5.1. This might lead to breaking code or invalid results. Use at your own risk. For more info please refer to:\n",
      "https://scikit-learn.org/stable/model_persistence.html#security-maintainability-limitations\n",
      "  warnings.warn(\n",
      "c:\\Users\\elena\\anaconda3\\envs\\sodamteo_ai\\lib\\site-packages\\sklearn\\base.py:493: UserWarning: X does not have valid feature names, but LogisticRegression was fitted with feature names\n",
      "  warnings.warn(\n"
     ]
    }
   ],
   "source": [
    "model = joblib.load(os.path.join(BASE_DIR, 'Linear_Regression_Crop_Selection.pkl'))\n",
    "\n",
    "predict_probas = model.predict_proba([[40, 49, 17, 31.022159, 45.892395, 6.687275, 53.567833]])\n",
    "\n",
    "top_n = 3\n",
    "sorted_indices = np.argsort(predict_probas[0])[::-1][:top_n]\n",
    "probas = predict_probas[0][sorted_indices]\n",
    "results = model.classes_[sorted_indices]\n",
    "\n",
    "for p, r in zip(probas, results):\n",
    "    print(f\"{r}, {np.round(p, 4)*100}%\")"
   ]
  },
  {
   "cell_type": "code",
   "execution_count": null,
   "metadata": {},
   "outputs": [],
   "source": []
  }
 ],
 "metadata": {
  "kernelspec": {
   "display_name": "sodamteo_ai",
   "language": "python",
   "name": "python3"
  },
  "language_info": {
   "codemirror_mode": {
    "name": "ipython",
    "version": 3
   },
   "file_extension": ".py",
   "mimetype": "text/x-python",
   "name": "python",
   "nbconvert_exporter": "python",
   "pygments_lexer": "ipython3",
   "version": "3.10.14"
  }
 },
 "nbformat": 4,
 "nbformat_minor": 2
}
